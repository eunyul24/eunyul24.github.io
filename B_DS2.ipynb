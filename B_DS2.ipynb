{
  "nbformat": 4,
  "nbformat_minor": 0,
  "metadata": {
    "colab": {
      "name": "B_DS2.ipynb",
      "provenance": [],
      "authorship_tag": "ABX9TyOqcUuCr4j0+0jY1fduX8k+",
      "include_colab_link": true
    },
    "kernelspec": {
      "name": "python3",
      "display_name": "Python 3"
    }
  },
  "cells": [
    {
      "cell_type": "markdown",
      "metadata": {
        "id": "view-in-github",
        "colab_type": "text"
      },
      "source": [
        "<a href=\"https://colab.research.google.com/github/eunyul24/eunyul24.github.io/blob/master/B_DS2.ipynb\" target=\"_parent\"><img src=\"https://colab.research.google.com/assets/colab-badge.svg\" alt=\"Open In Colab\"/></a>"
      ]
    },
    {
      "cell_type": "code",
      "metadata": {
        "id": "tb2u6TaUusQ4",
        "colab_type": "code",
        "colab": {
          "base_uri": "https://localhost:8080/",
          "height": 125
        },
        "outputId": "50404eb5-ccf9-474d-c0b2-ea6df82ab5ef"
      },
      "source": [
        "from google.colab import drive\n",
        "drive.mount('/content/drive')"
      ],
      "execution_count": 1,
      "outputs": [
        {
          "output_type": "stream",
          "text": [
            "Go to this URL in a browser: https://accounts.google.com/o/oauth2/auth?client_id=947318989803-6bn6qk8qdgf4n4g3pfee6491hc0brc4i.apps.googleusercontent.com&redirect_uri=urn%3aietf%3awg%3aoauth%3a2.0%3aoob&response_type=code&scope=email%20https%3a%2f%2fwww.googleapis.com%2fauth%2fdocs.test%20https%3a%2f%2fwww.googleapis.com%2fauth%2fdrive%20https%3a%2f%2fwww.googleapis.com%2fauth%2fdrive.photos.readonly%20https%3a%2f%2fwww.googleapis.com%2fauth%2fpeopleapi.readonly\n",
            "\n",
            "Enter your authorization code:\n",
            "··········\n",
            "Mounted at /content/drive\n"
          ],
          "name": "stdout"
        }
      ]
    },
    {
      "cell_type": "code",
      "metadata": {
        "id": "dhCMJSKk0cfl",
        "colab_type": "code",
        "colab": {}
      },
      "source": [
        "import numpy as np\n",
        "import csv"
      ],
      "execution_count": 2,
      "outputs": []
    },
    {
      "cell_type": "markdown",
      "metadata": {
        "id": "8eM__18Bzeco",
        "colab_type": "text"
      },
      "source": [
        ""
      ]
    },
    {
      "cell_type": "code",
      "metadata": {
        "id": "rQ4R_UOPdkSW",
        "colab_type": "code",
        "colab": {
          "base_uri": "https://localhost:8080/",
          "height": 52
        },
        "outputId": "0a349031-f18f-4529-9c55-cb810e07abbd"
      },
      "source": [
        "header = []\n",
        "userId = []\n",
        "movieId = []\n",
        "ratings = []\n",
        "test = []\n",
        "rownum = -1\n",
        "\n",
        "with open('/content/drive/My Drive/Colab Notebooks/ml-20m/ratings.csv','r') as f:\n",
        "    data = csv.reader(f)\n",
        "    for row in data:\n",
        "        rownum += 1\n",
        "        if rownum == 0:\n",
        "            header = row\n",
        "            continue\n",
        "        if int(row[3]) < 1388502017: \n",
        "            userId.append(int(row[0]))\n",
        "            movieId.append(int(row[1]))\n",
        "            ratings.append(float(row[2]))\n",
        "        else: test.append([int(row[0]), int(row[1]), float(row[2]), int(row[3])])\n",
        "            \n",
        "print(len(userId))\n",
        "print(len(test))"
      ],
      "execution_count": 3,
      "outputs": [
        {
          "output_type": "stream",
          "text": [
            "19152913\n",
            "847350\n"
          ],
          "name": "stdout"
        }
      ]
    },
    {
      "cell_type": "markdown",
      "metadata": {
        "id": "qLPGxeL0zgQQ",
        "colab_type": "text"
      },
      "source": [
        ""
      ]
    },
    {
      "cell_type": "code",
      "metadata": {
        "id": "13u-S8arpLkX",
        "colab_type": "code",
        "colab": {}
      },
      "source": [
        "userIdx = dict()\n",
        "for i, uid in enumerate(np.unique(userId)):\n",
        "    userIdx[uid] = i\n",
        "\n",
        "movieIdx = dict()\n",
        "for i, mid in enumerate(np.unique(movieId)):\n",
        "    movieIdx[mid] = i\n",
        "\n",
        "X = np.zeros((len(ratings),2), dtype=int)\n",
        "for i in range(len(userId)):\n",
        "    X[i] = [userIdx[userId[i]], movieIdx[movieId[i]]]"
      ],
      "execution_count": 8,
      "outputs": []
    },
    {
      "cell_type": "markdown",
      "metadata": {
        "id": "OwcO1QN6zbTi",
        "colab_type": "text"
      },
      "source": [
        ""
      ]
    },
    {
      "cell_type": "code",
      "metadata": {
        "id": "1fAJyB3GzYNj",
        "colab_type": "code",
        "colab": {}
      },
      "source": [
        "class MatrixFactorization():\n",
        "    def __init__(self, ratings, X, k = 10, learning_rate = 0.01, reg_param = 0.1, epochs = 20):\n",
        "        \"\"\"\n",
        "        param R: ratings\n",
        "        param X: userId, movieId\n",
        "        param k: latent parameter\n",
        "        param learning_rate: alpha on weight update\n",
        "        param reg_param: beta on weight update\n",
        "        param epochs: training epochs\n",
        "        \"\"\"\n",
        "\n",
        "        self.ratings = ratings\n",
        "        self.X = X\n",
        "        self.num_users = len(np.unique(X[:, 0]))\n",
        "        self.num_movies = len(np.unique(X[:, 1]))\n",
        "        self.k = k\n",
        "        self.learning_rate = learning_rate\n",
        "        self.reg_param = reg_param\n",
        "        self.epochs = epochs\n",
        "\n",
        "    def fit(self):\n",
        "        \"\"\"\n",
        "        training Matrix Factorization : Update matrix latent weight and bias\n",
        "        \n",
        "        return: training_process\n",
        "        \"\"\"\n",
        "\n",
        "        # init latent features\n",
        "        self.P = np.random.normal(size=(self.num_users, self.k))\n",
        "        self.Q = np.random.normal(size=(self.num_movies, self.k))\n",
        "\n",
        "        # init biases\n",
        "        self.b = np.mean(self.ratings)\n",
        "        self.b_P = np.zeros(self.num_users)\n",
        "        self.b_Q = np.zeros(self.num_movies)\n",
        "\n",
        "        # train while epochs\n",
        "        self.training_process = []\n",
        "        for epoch in range(self.epochs):\n",
        "            for i,rating in enumerate(self.ratings):\n",
        "                self.gradient_descent(self.X[i, 0], self.X[i, 1], rating)\n",
        "            rmse = self.rmse()\n",
        "            self.training_process.append((epoch,rmse))\n",
        "            \n",
        "            # print status\n",
        "            if (epoch + 1) % 10 == 0:\n",
        "                print(\"Iteration: %d ; RMSE = %.4f\" % (epoch + 1, rmse))\n",
        "        \n",
        "        return self.training_process\n",
        "    \n",
        "\n",
        "    def rmse(self):\n",
        "        \"\"\"\n",
        "        compute root mean square error\n",
        "        \n",
        "        return: rmse cost\n",
        "        \"\"\"\n",
        "        \n",
        "        error = 0\n",
        "        for i,rating in enumerate(ratings):\n",
        "            error += pow(rating - self.get_prediction(self.X[i, 0], self.X[i, 1]), 2)\n",
        "        return np.sqrt(error)\n",
        "\n",
        "\n",
        "    def gradient_descent(self, i, j, rating):\n",
        "        \"\"\"\n",
        "        graident descent function\n",
        "\n",
        "        param i: user index of matrix\n",
        "        param j: item index of matrix\n",
        "        param rating: rating of (i,j)\n",
        "        \"\"\"\n",
        "\n",
        "        # get error\n",
        "        prediction = self.get_prediction(i, j)\n",
        "        error = rating - prediction\n",
        "\n",
        "        # update biases\n",
        "        self.b_P[i] += self.learning_rate * (error - self.reg_param * self.b_P[i])\n",
        "        self.b_Q[j] += self.learning_rate * (error - self.reg_param * self.b_Q[j])\n",
        "\n",
        "        # update latent feature\n",
        "        self.P[i, :] += self.learning_rate * (error * self.Q[j, :] - self.reg_param * self.P[i, :])\n",
        "        self.Q[j, :] += self.learning_rate * (error * self.P[i, :] - self.reg_param * self.Q[j, :])\n",
        "\n",
        "\n",
        "    def get_prediction(self, i, j):\n",
        "        \"\"\"\n",
        "        get predicted rating: user_i, item_j\n",
        "        \n",
        "        return: prediction of r_ij\n",
        "        \"\"\"\n",
        "        return self.b + self.b_P[i] + self.b_Q[j] + self.P[i, :].dot(self.Q[j, :].T)"
      ],
      "execution_count": 9,
      "outputs": []
    },
    {
      "cell_type": "markdown",
      "metadata": {
        "id": "Nyi2-Wd783qy",
        "colab_type": "text"
      },
      "source": [
        ""
      ]
    },
    {
      "cell_type": "code",
      "metadata": {
        "id": "B1uBqU9m836V",
        "colab_type": "code",
        "colab": {
          "base_uri": "https://localhost:8080/",
          "height": 34
        },
        "outputId": "f8947bdb-a151-48bc-f3c7-bd59e50aa69e"
      },
      "source": [
        "MF = MatrixFactorization(ratings, X)\n",
        "training_process = MF.fit()\n",
        "\n",
        "print(\"train RMSE:\", MF.rmse())"
      ],
      "execution_count": 10,
      "outputs": [
        {
          "output_type": "stream",
          "text": [
            "train RMSE: {} 3781.8531457378017\n"
          ],
          "name": "stdout"
        }
      ]
    },
    {
      "cell_type": "code",
      "metadata": {
        "id": "n0eDXGsxCHvL",
        "colab_type": "code",
        "colab": {}
      },
      "source": [
        "f = open('/content/drive/My Drive/Colab Notebooks/ml-20m/B_results_DS2.csv', 'w', encoding='utf-8')\n",
        "header[2] = 'predected rating'\n",
        "wr = csv.writer(f)\n",
        "wr.writerow(header)\n",
        "\n",
        "error = 0\n",
        "\n",
        "for uId, mId, rating, time in test:\n",
        "    if uId in userIdx.keys() and mId in movieIdx.keys():\n",
        "        predicted = MF.get_prediction(userIdx[uId], movieIdx[mId])\n",
        "    elif not uId in userIdx.keys() and mId in movieIdx.keys():\n",
        "        predicted = np.mean([ratings[i] for i in np.where(X[:, 1] == movieIdx[mId])[0]])\n",
        "    elif uId in userIdx.keys() and not mId in movieIdx.keys():\n",
        "        predicted = np.mean([ratings[i] for i in np.where(X[:, 0] == userIdx[uId])[0]])\n",
        "    else:\n",
        "        predicted = np.mean(ratings)\n",
        "\n",
        "    error += pow(rating - predicted, 2)\n",
        "    \n",
        "    wr.writerow([uId, mId, predicted,time])\n",
        "\n",
        "f.close()\n",
        "print(\"test RMSE:\", np.sqrt(error))"
      ],
      "execution_count": null,
      "outputs": []
    },
    {
      "cell_type": "code",
      "metadata": {
        "id": "CRJzQPqaxddq",
        "colab_type": "code",
        "colab": {}
      },
      "source": [
        ""
      ],
      "execution_count": null,
      "outputs": []
    }
  ]
}